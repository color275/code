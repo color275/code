{
 "cells": [
  {
   "cell_type": "code",
   "execution_count": 1,
   "metadata": {},
   "outputs": [],
   "source": [
    "import findspark\n",
    "findspark.init()\n",
    "import pyspark\n",
    "\n",
    "from pyspark.sql import SparkSession\n",
    "\n",
    "spark = SparkSession.builder \\\n",
    "        .master(\"local\") \\\n",
    "        .appName(\"TEST\") \\\n",
    "        .getOrCreate()"
   ]
  },
  {
   "cell_type": "code",
   "execution_count": 2,
   "metadata": {},
   "outputs": [],
   "source": [
    "from pyspark.sql import *"
   ]
  },
  {
   "cell_type": "code",
   "execution_count": 3,
   "metadata": {},
   "outputs": [],
   "source": [
    "from pyspark.sql.functions import *"
   ]
  },
  {
   "cell_type": "code",
   "execution_count": 19,
   "metadata": {},
   "outputs": [],
   "source": [
    "from pyspark.sql.types import DataType"
   ]
  },
  {
   "cell_type": "code",
   "execution_count": 4,
   "metadata": {},
   "outputs": [],
   "source": [
    "# \"/home/anaconda/data/spark/Spark-The-Definitive-Guide-master/data/retail-data/all/*.csv\""
   ]
  },
  {
   "cell_type": "code",
   "execution_count": 50,
   "metadata": {},
   "outputs": [],
   "source": [
    "mySchema = StructType(\n",
    "    [\n",
    "        StructField(\"InvoiceNo\",StringType(),True),\n",
    "        StructField(\"StockCode\",StringType(),True),\n",
    "        StructField(\"Description\",StringType(),True),\n",
    "        StructField(\"Quantity\",IntegerType(),True),\n",
    "        StructField(\"InvoiceDate\",TimestampType(),True),\n",
    "        StructField(\"UnitPrice\",DoubleType(),True),\n",
    "        StructField(\"CustomerID\",StringType(),True),\n",
    "        StructField(\"Country\",StringType(),True)\n",
    "    ]\n",
    ")"
   ]
  },
  {
   "cell_type": "code",
   "execution_count": 56,
   "metadata": {},
   "outputs": [],
   "source": [
    "df = spark.read\\\n",
    "    .format(\"csv\")\\\n",
    "    .option(\"header\",\"true\")\\\n",
    "    .schema(mySchema)\\\n",
    "    .option(\"inferSchema\",\"true\")\\\n",
    "    .load(\"/home/color275/data/spark/Spark-The-Definitive-Guide-master/data/retail-data/by-day/*.csv\")"
   ]
  },
  {
   "cell_type": "code",
   "execution_count": 57,
   "metadata": {},
   "outputs": [
    {
     "data": {
      "text/plain": [
       "StructType(List(StructField(InvoiceNo,StringType,true),StructField(StockCode,StringType,true),StructField(Description,StringType,true),StructField(Quantity,IntegerType,true),StructField(InvoiceDate,TimestampType,true),StructField(UnitPrice,DoubleType,true),StructField(CustomerID,StringType,true),StructField(Country,StringType,true)))"
      ]
     },
     "execution_count": 57,
     "metadata": {},
     "output_type": "execute_result"
    }
   ],
   "source": [
    "df.schema"
   ]
  },
  {
   "cell_type": "code",
   "execution_count": 58,
   "metadata": {},
   "outputs": [
    {
     "name": "stdout",
     "output_type": "stream",
     "text": [
      "root\n",
      " |-- InvoiceNo: string (nullable = true)\n",
      " |-- StockCode: string (nullable = true)\n",
      " |-- Description: string (nullable = true)\n",
      " |-- Quantity: integer (nullable = true)\n",
      " |-- InvoiceDate: timestamp (nullable = true)\n",
      " |-- UnitPrice: double (nullable = true)\n",
      " |-- CustomerID: string (nullable = true)\n",
      " |-- Country: string (nullable = true)\n",
      "\n"
     ]
    }
   ],
   "source": [
    "df.printSchema()"
   ]
  },
  {
   "cell_type": "code",
   "execution_count": 60,
   "metadata": {},
   "outputs": [
    {
     "data": {
      "text/plain": [
       "541909"
      ]
     },
     "execution_count": 60,
     "metadata": {},
     "output_type": "execute_result"
    }
   ],
   "source": [
    "df.count()"
   ]
  },
  {
   "cell_type": "code",
   "execution_count": 61,
   "metadata": {},
   "outputs": [
    {
     "name": "stdout",
     "output_type": "stream",
     "text": [
      "+---------+---------+--------------------+--------+-------------------+---------+----------+--------------+\n",
      "|InvoiceNo|StockCode|         Description|Quantity|        InvoiceDate|UnitPrice|CustomerID|       Country|\n",
      "+---------+---------+--------------------+--------+-------------------+---------+----------+--------------+\n",
      "|   580538|    23084|  RABBIT NIGHT LIGHT|      48|2011-12-05 08:38:00|     1.79|   14075.0|United Kingdom|\n",
      "|   580538|    23077| DOUGHNUT LIP GLOSS |      20|2011-12-05 08:38:00|     1.25|   14075.0|United Kingdom|\n",
      "|   580538|    22906|12 MESSAGE CARDS ...|      24|2011-12-05 08:38:00|     1.65|   14075.0|United Kingdom|\n",
      "|   580538|    21914|BLUE HARMONICA IN...|      24|2011-12-05 08:38:00|     1.25|   14075.0|United Kingdom|\n",
      "|   580538|    22467|   GUMBALL COAT RACK|       6|2011-12-05 08:38:00|     2.55|   14075.0|United Kingdom|\n",
      "+---------+---------+--------------------+--------+-------------------+---------+----------+--------------+\n",
      "only showing top 5 rows\n",
      "\n"
     ]
    }
   ],
   "source": [
    "df.show(5)"
   ]
  },
  {
   "cell_type": "code",
   "execution_count": 75,
   "metadata": {},
   "outputs": [],
   "source": [
    "dfDate = df.withColumn('date',to_date(col('InvoiceDate'),'MM/d/yyyy H:mm'))"
   ]
  },
  {
   "cell_type": "code",
   "execution_count": 76,
   "metadata": {},
   "outputs": [
    {
     "data": {
      "text/plain": [
       "DataFrame[InvoiceNo: string, StockCode: string, Description: string, Quantity: int, InvoiceDate: timestamp, UnitPrice: double, CustomerID: string, Country: string, date: date]"
      ]
     },
     "execution_count": 76,
     "metadata": {},
     "output_type": "execute_result"
    }
   ],
   "source": [
    "dfDate"
   ]
  },
  {
   "cell_type": "code",
   "execution_count": 77,
   "metadata": {},
   "outputs": [
    {
     "name": "stdout",
     "output_type": "stream",
     "text": [
      "+---------+---------+--------------------+--------+-------------------+---------+----------+--------------+----------+\n",
      "|InvoiceNo|StockCode|         Description|Quantity|        InvoiceDate|UnitPrice|CustomerID|       Country|      date|\n",
      "+---------+---------+--------------------+--------+-------------------+---------+----------+--------------+----------+\n",
      "|   580538|    23084|  RABBIT NIGHT LIGHT|      48|2011-12-05 08:38:00|     1.79|   14075.0|United Kingdom|2011-12-05|\n",
      "|   580538|    23077| DOUGHNUT LIP GLOSS |      20|2011-12-05 08:38:00|     1.25|   14075.0|United Kingdom|2011-12-05|\n",
      "|   580538|    22906|12 MESSAGE CARDS ...|      24|2011-12-05 08:38:00|     1.65|   14075.0|United Kingdom|2011-12-05|\n",
      "|   580538|    21914|BLUE HARMONICA IN...|      24|2011-12-05 08:38:00|     1.25|   14075.0|United Kingdom|2011-12-05|\n",
      "|   580538|    22467|   GUMBALL COAT RACK|       6|2011-12-05 08:38:00|     2.55|   14075.0|United Kingdom|2011-12-05|\n",
      "+---------+---------+--------------------+--------+-------------------+---------+----------+--------------+----------+\n",
      "only showing top 5 rows\n",
      "\n"
     ]
    }
   ],
   "source": [
    "dfDate.show(5)"
   ]
  },
  {
   "cell_type": "code",
   "execution_count": 78,
   "metadata": {},
   "outputs": [],
   "source": [
    "from pyspark.sql.window import *"
   ]
  },
  {
   "cell_type": "code",
   "execution_count": null,
   "metadata": {},
   "outputs": [],
   "source": [
    "\n",
    "\n"
   ]
  },
  {
   "cell_type": "code",
   "execution_count": 3,
   "metadata": {},
   "outputs": [],
   "source": [
    "import findspark\n",
    "findspark.init()\n",
    "import pyspark\n",
    "\n",
    "from pyspark.sql import SparkSession\n",
    "\n",
    "spark = SparkSession.builder \\\n",
    "        .master(\"local\") \\\n",
    "        .appName(\"TEST\") \\\n",
    "        .getOrCreate()"
   ]
  },
  {
   "cell_type": "code",
   "execution_count": 111,
   "metadata": {},
   "outputs": [],
   "source": [
    "import os\n",
    "os.environ['PYSPARK_SUBMIT_ARGS'] = '--jars /home/anaconda/mysql-connector-java-8.0.23.jar'"
   ]
  },
  {
   "cell_type": "code",
   "execution_count": 4,
   "metadata": {},
   "outputs": [],
   "source": [
    "# url = \"/home/color275/다운로드/mysql-connector-java-8.0.23/mysql-connector-java-8.0.23.jar\"\n",
    "url = \"localhost\"\n",
    "jdbcDF = spark.read \\\n",
    "    .format(\"jdbc\") \\\n",
    "    .option(\"url\", \"jdbc:mysql://localhost:3306/mysql\") \\\n",
    "    .option(\"dbtable\", \"mysql.user\") \\\n",
    "    .option(\"user\", \"root\") \\\n",
    "    .option(\"password\", \"ahdxhd275!\") \\\n",
    "    .load()"
   ]
  },
  {
   "cell_type": "code",
   "execution_count": 6,
   "metadata": {},
   "outputs": [
    {
     "name": "stdout",
     "output_type": "stream",
     "text": [
      "root\n",
      " |-- Host: string (nullable = true)\n",
      " |-- User: string (nullable = true)\n",
      " |-- Select_priv: string (nullable = true)\n",
      " |-- Insert_priv: string (nullable = true)\n",
      " |-- Update_priv: string (nullable = true)\n",
      " |-- Delete_priv: string (nullable = true)\n",
      " |-- Create_priv: string (nullable = true)\n",
      " |-- Drop_priv: string (nullable = true)\n",
      " |-- Reload_priv: string (nullable = true)\n",
      " |-- Shutdown_priv: string (nullable = true)\n",
      " |-- Process_priv: string (nullable = true)\n",
      " |-- File_priv: string (nullable = true)\n",
      " |-- Grant_priv: string (nullable = true)\n",
      " |-- References_priv: string (nullable = true)\n",
      " |-- Index_priv: string (nullable = true)\n",
      " |-- Alter_priv: string (nullable = true)\n",
      " |-- Show_db_priv: string (nullable = true)\n",
      " |-- Super_priv: string (nullable = true)\n",
      " |-- Create_tmp_table_priv: string (nullable = true)\n",
      " |-- Lock_tables_priv: string (nullable = true)\n",
      " |-- Execute_priv: string (nullable = true)\n",
      " |-- Repl_slave_priv: string (nullable = true)\n",
      " |-- Repl_client_priv: string (nullable = true)\n",
      " |-- Create_view_priv: string (nullable = true)\n",
      " |-- Show_view_priv: string (nullable = true)\n",
      " |-- Create_routine_priv: string (nullable = true)\n",
      " |-- Alter_routine_priv: string (nullable = true)\n",
      " |-- Create_user_priv: string (nullable = true)\n",
      " |-- Event_priv: string (nullable = true)\n",
      " |-- Trigger_priv: string (nullable = true)\n",
      " |-- Create_tablespace_priv: string (nullable = true)\n",
      " |-- ssl_type: string (nullable = true)\n",
      " |-- ssl_cipher: binary (nullable = true)\n",
      " |-- x509_issuer: binary (nullable = true)\n",
      " |-- x509_subject: binary (nullable = true)\n",
      " |-- max_questions: long (nullable = true)\n",
      " |-- max_updates: long (nullable = true)\n",
      " |-- max_connections: long (nullable = true)\n",
      " |-- max_user_connections: long (nullable = true)\n",
      " |-- plugin: string (nullable = true)\n",
      " |-- authentication_string: string (nullable = true)\n",
      " |-- password_expired: string (nullable = true)\n",
      " |-- password_last_changed: timestamp (nullable = true)\n",
      " |-- password_lifetime: integer (nullable = true)\n",
      " |-- account_locked: string (nullable = true)\n",
      " |-- Create_role_priv: string (nullable = true)\n",
      " |-- Drop_role_priv: string (nullable = true)\n",
      " |-- Password_reuse_history: integer (nullable = true)\n",
      " |-- Password_reuse_time: integer (nullable = true)\n",
      " |-- Password_require_current: string (nullable = true)\n",
      " |-- User_attributes: string (nullable = true)\n",
      "\n"
     ]
    }
   ],
   "source": [
    "jdbcDF.printSchema()"
   ]
  },
  {
   "cell_type": "code",
   "execution_count": 9,
   "metadata": {},
   "outputs": [
    {
     "name": "stdout",
     "output_type": "stream",
     "text": [
      "+----+----+-----------+-----------+-----------+-----------+-----------+---------+-----------+-------------+------------+---------+----------+---------------+----------+----------+------------+----------+---------------------+----------------+------------+---------------+----------------+----------------+--------------+-------------------+------------------+----------------+----------+------------+----------------------+--------+----------+-----------+------------+-------------+-----------+---------------+--------------------+------+---------------------+----------------+---------------------+-----------------+--------------+----------------+--------------+----------------------+-------------------+------------------------+---------------+\n",
      "|Host|User|Select_priv|Insert_priv|Update_priv|Delete_priv|Create_priv|Drop_priv|Reload_priv|Shutdown_priv|Process_priv|File_priv|Grant_priv|References_priv|Index_priv|Alter_priv|Show_db_priv|Super_priv|Create_tmp_table_priv|Lock_tables_priv|Execute_priv|Repl_slave_priv|Repl_client_priv|Create_view_priv|Show_view_priv|Create_routine_priv|Alter_routine_priv|Create_user_priv|Event_priv|Trigger_priv|Create_tablespace_priv|ssl_type|ssl_cipher|x509_issuer|x509_subject|max_questions|max_updates|max_connections|max_user_connections|plugin|authentication_string|password_expired|password_last_changed|password_lifetime|account_locked|Create_role_priv|Drop_role_priv|Password_reuse_history|Password_reuse_time|Password_require_current|User_attributes|\n",
      "+----+----+-----------+-----------+-----------+-----------+-----------+---------+-----------+-------------+------------+---------+----------+---------------+----------+----------+------------+----------+---------------------+----------------+------------+---------------+----------------+----------------+--------------+-------------------+------------------+----------------+----------+------------+----------------------+--------+----------+-----------+------------+-------------+-----------+---------------+--------------------+------+---------------------+----------------+---------------------+-----------------+--------------+----------------+--------------+----------------------+-------------------+------------------------+---------------+\n",
      "+----+----+-----------+-----------+-----------+-----------+-----------+---------+-----------+-------------+------------+---------+----------+---------------+----------+----------+------------+----------+---------------------+----------------+------------+---------------+----------------+----------------+--------------+-------------------+------------------+----------------+----------+------------+----------------------+--------+----------+-----------+------------+-------------+-----------+---------------+--------------------+------+---------------------+----------------+---------------------+-----------------+--------------+----------------+--------------+----------------------+-------------------+------------------------+---------------+\n",
      "\n"
     ]
    }
   ],
   "source": [
    "jdbcDF.where(\"Host = 1\").show()"
   ]
  },
  {
   "cell_type": "code",
   "execution_count": null,
   "metadata": {},
   "outputs": [],
   "source": []
  }
 ],
 "metadata": {
  "kernelspec": {
   "display_name": "Python 3",
   "language": "python",
   "name": "python3"
  },
  "language_info": {
   "codemirror_mode": {
    "name": "ipython",
    "version": 3
   },
   "file_extension": ".py",
   "mimetype": "text/x-python",
   "name": "python",
   "nbconvert_exporter": "python",
   "pygments_lexer": "ipython3",
   "version": "3.8.5"
  }
 },
 "nbformat": 4,
 "nbformat_minor": 4
}
